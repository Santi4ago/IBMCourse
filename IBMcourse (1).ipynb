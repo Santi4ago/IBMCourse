{
 "cells": [
  {
   "cell_type": "markdown",
   "id": "faba10ad-4b88-43fb-be17-a9c00aeb34aa",
   "metadata": {},
   "source": [
    "<h1>My Jupyter Notebook on IBM Watson Studio<h1>"
   ]
  },
  {
   "cell_type": "markdown",
   "id": "8efbbe3f-eda9-45d7-81d6-3eb446c13bad",
   "metadata": {},
   "source": [
    "<b>Santiago Castro Sanmiguel</b></li>\n",
    "<li>Currently an Analyst in Oil & Gas - My desire is to become a Data Engineer</li>\n"
   ]
  },
  {
   "cell_type": "markdown",
   "id": "921e1524-1def-4741-a73f-014111b30230",
   "metadata": {},
   "source": [
    "<i>I enjoy finding out the information lies behind data. Collecting, cleaning and finally analyzing data is definitely a process I find super fun</i>"
   ]
  },
  {
   "cell_type": "markdown",
   "id": "b195d8c9-79da-402b-9eb9-43b47044607e",
   "metadata": {},
   "source": [
    "<h3>This code finds the derivative of a function of one variable - specified by x<h3>"
   ]
  },
  {
   "cell_type": "code",
   "execution_count": 8,
   "id": "d5cd3cd5-c1a5-4340-9fd7-4c9ebb12d8f6",
   "metadata": {},
   "outputs": [
    {
     "name": "stdout",
     "output_type": "stream",
     "text": [
      "6*x**2 + 5\n"
     ]
    }
   ],
   "source": [
    "from sympy import *\n",
    "x = symbols('x')\n",
    "function = 2*x**3 + 5*x +3\n",
    "df = diff(function, x)\n",
    "print(df)"
   ]
  },
  {
   "cell_type": "markdown",
   "id": "c481ab43-1c65-4560-90b5-e0eebae27430",
   "metadata": {},
   "source": [
    " <a> href=\"https://www.linkedin.com/in/santiago-castro-23938220/\" >Link to my linkedin</a>\n",
    " <hr>\n",
    "<table style=\"width:20%\">\n",
    "<tr>\n",
    "<th>I Like</th>\n",
    "<th>Programming</th>\n",
    "</tr>\n",
    "</table>"
   ]
  },
  {
   "cell_type": "code",
   "execution_count": null,
   "id": "5f85fe44-89c6-41f5-9734-af75ec70693d",
   "metadata": {},
   "outputs": [],
   "source": []
  }
 ],
 "metadata": {
  "kernelspec": {
   "display_name": "Python 3",
   "language": "python",
   "name": "python3"
  },
  "language_info": {
   "codemirror_mode": {
    "name": "ipython",
    "version": 3
   },
   "file_extension": ".py",
   "mimetype": "text/x-python",
   "name": "python",
   "nbconvert_exporter": "python",
   "pygments_lexer": "ipython3",
   "version": "3.9.4"
  }
 },
 "nbformat": 4,
 "nbformat_minor": 5
}
